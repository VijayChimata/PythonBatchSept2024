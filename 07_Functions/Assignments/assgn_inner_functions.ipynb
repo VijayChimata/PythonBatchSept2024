{
 "cells": [
  {
   "cell_type": "markdown",
   "metadata": {
    "vscode": {
     "languageId": "plaintext"
    }
   },
   "source": [
    "## Inner Functions\n",
    "\n",
    "Implement partial functions using closure\n"
   ]
  },
  {
   "cell_type": "code",
   "execution_count": 3,
   "metadata": {},
   "outputs": [
    {
     "name": "stdout",
     "output_type": "stream",
     "text": [
      "<function sum_of_num.<locals>.logic at 0x79972409ed40>\n"
     ]
    }
   ],
   "source": [
    "def sum_of_num(a,b):\n",
    "    def logic():\n",
    "        return a + b\n",
    "    return logic\n",
    "\n",
    "sum_2_num = sum_of_num(2,4)\n",
    "print(sum_2_num)\n"
   ]
  },
  {
   "cell_type": "code",
   "execution_count": 4,
   "metadata": {},
   "outputs": [
    {
     "name": "stdout",
     "output_type": "stream",
     "text": [
      "6\n"
     ]
    }
   ],
   "source": [
    "print(sum_2_num())"
   ]
  },
  {
   "cell_type": "code",
   "execution_count": null,
   "metadata": {},
   "outputs": [],
   "source": [
    "def sum_of_num(*args):\n",
    "    def logic():\n",
    "        return a + b\n",
    "    return logic\n",
    "\n",
    "sum_2_num = sum_of_num(2,4)\n",
    "print(sum_2_num)\n"
   ]
  }
 ],
 "metadata": {
  "kernelspec": {
   "display_name": "Python 3",
   "language": "python",
   "name": "python3"
  },
  "language_info": {
   "codemirror_mode": {
    "name": "ipython",
    "version": 3
   },
   "file_extension": ".py",
   "mimetype": "text/x-python",
   "name": "python",
   "nbconvert_exporter": "python",
   "pygments_lexer": "ipython3",
   "version": "3.12.1"
  }
 },
 "nbformat": 4,
 "nbformat_minor": 2
}
