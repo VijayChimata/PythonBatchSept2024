{
 "cells": [
  {
   "cell_type": "markdown",
   "metadata": {
    "vscode": {
     "languageId": "plaintext"
    }
   },
   "source": [
    "### Decorator"
   ]
  },
  {
   "cell_type": "markdown",
   "metadata": {
    "vscode": {
     "languageId": "plaintext"
    }
   },
   "source": [
    "#### sum of given numbers using decorators"
   ]
  },
  {
   "cell_type": "code",
   "execution_count": 1,
   "metadata": {},
   "outputs": [
    {
     "name": "stdout",
     "output_type": "stream",
     "text": [
      "TIME TAKEN: 0:00:00.000005\n",
      "60\n",
      "unsupported operand type(s) for +=: 'int' and 'str'\n"
     ]
    }
   ],
   "source": [
    "from datetime import datetime\n",
    "\n",
    "def exception_hndlr(func):\n",
    "    def inner(*args, **kwargs):\n",
    "        start_time = datetime.now()\n",
    "        try:\n",
    "            result = func(*args,**kwargs)\n",
    "        except Exception as ex:\n",
    "            return ex\n",
    "        else:\n",
    "            print(f'TIME TAKEN: {datetime.now() - start_time}')\n",
    "            return result\n",
    "    return inner\n",
    "\n",
    "@exception_hndlr\n",
    "# sum of num method\n",
    "def sum_of_num(*args,**kwargs):\n",
    "    sum = 0\n",
    "    for arg in args:\n",
    "        sum += arg\n",
    "    return sum\n",
    "\n",
    "print(sum_of_num(10,20,30))\n",
    "print(sum_of_num(10,20,30,40,'50'))\n",
    "\n"
   ]
  },
  {
   "cell_type": "code",
   "execution_count": null,
   "metadata": {},
   "outputs": [],
   "source": []
  }
 ],
 "metadata": {
  "kernelspec": {
   "display_name": "Python 3",
   "language": "python",
   "name": "python3"
  },
  "language_info": {
   "codemirror_mode": {
    "name": "ipython",
    "version": 3
   },
   "file_extension": ".py",
   "mimetype": "text/x-python",
   "name": "python",
   "nbconvert_exporter": "python",
   "pygments_lexer": "ipython3",
   "version": "3.12.1"
  }
 },
 "nbformat": 4,
 "nbformat_minor": 2
}
